{
 "cells": [
  {
   "cell_type": "markdown",
   "metadata": {},
   "source": [
    "# Quiz 4 Week 4"
   ]
  },
  {
   "cell_type": "markdown",
   "metadata": {},
   "source": [
    "## Question 1 \n",
    "The American Community Survey distributes downloadable data about United States communities. Download the 2006 microdata survey about housing for the state of Idaho using download.file() from here:\n",
    "\n",
    "https://d396qusza40orc.cloudfront.net/getdata%2Fdata%2Fss06hid.csv\n",
    "\n",
    "and load the data into R. The code book, describing the variable names is here:\n",
    "\n",
    "https://d396qusza40orc.cloudfront.net/getdata%2Fdata%2FPUMSDataDict06.pdf\n",
    "\n",
    "\n",
    "Apply strsplit() to split all the names of the data frame on the characters \"wgtp\". What is the value of the 123 element of the resulting list? \n"
   ]
  },
  {
   "cell_type": "code",
   "execution_count": 41,
   "metadata": {
    "collapsed": false
   },
   "outputs": [
    {
     "name": "stdout",
     "output_type": "stream",
     "text": [
      "[[1]]\n",
      "[1] \"\"   \"15\"\n",
      "\n"
     ]
    }
   ],
   "source": [
    "url <- \"https://d396qusza40orc.cloudfront.net/getdata%2Fdata%2Fss06hid.csv\" \n",
    "\n",
    "f <- file.path(getwd(), \"idaho.csv\") \n",
    "\n",
    "if(!file.exists(f))\n",
    "{\n",
    "    download.file(url,f) \n",
    "}\n",
    "\n",
    "df <- read.csv(f, header = TRUE, sep = \",\") \n",
    "\n",
    "names<- names(df)\n",
    "split <- strsplit(names,\"wgtp\") \n",
    "print(split[123])"
   ]
  },
  {
   "cell_type": "markdown",
   "metadata": {},
   "source": [
    "## Question 2\n",
    "\n",
    "Load the Gross Domestic Product data for the 190 ranked countries in this data set:\n",
    "\n",
    "https://d396qusza40orc.cloudfront.net/getdata%2Fdata%2FGDP.csv\n",
    "\n",
    "Remove the commas from the GDP numbers in millions of dollars and average them. What is the average?\n",
    "\n",
    "Original data sources:\n",
    "\n",
    "http://data.worldbank.org/data-catalog/GDP-ranking-table"
   ]
  },
  {
   "cell_type": "code",
   "execution_count": 83,
   "metadata": {
    "collapsed": false
   },
   "outputs": [
    {
     "data": {
      "text/html": [
       "377652.4"
      ],
      "text/latex": [
       "377652.4"
      ],
      "text/markdown": [
       "377652.4"
      ],
      "text/plain": [
       "[1] 377652.4"
      ]
     },
     "metadata": {},
     "output_type": "display_data"
    }
   ],
   "source": [
    "url <- \"https://d396qusza40orc.cloudfront.net/getdata%2Fdata%2FGDP.csv\"\n",
    "f <- file.path(getwd(), \"FGDP.csv\") \n",
    "\n",
    "if(!file.exists(f))\n",
    "{\n",
    "    download.file(url,f) \n",
    "}\n",
    "\n",
    "#gdp <- read.csv(f, skip = 4, header = TRUE, sep = \",\")\n",
    "gdp <- read.csv(f, skip = 4, nrows = 190, stringsAsFactors = FALSE)[,c(1, 2, 4, 5)]\n",
    "clean <- gsub(\",\", \"\", gdp$X.4)\n",
    "clean <- as.numeric(clean)\n",
    "round(mean(clean, na.rm = TRUE),digits = 1)\n"
   ]
  },
  {
   "cell_type": "markdown",
   "metadata": {},
   "source": [
    "## Question 3 \n",
    "In the data set from Question 2 what is a regular expression that would allow you to count the number of countries whose name begins with \"United\"? Assume that the variable with the country names in it is named countryNames. How many countries begin with United?\n",
    "\n"
   ]
  },
  {
   "cell_type": "code",
   "execution_count": 89,
   "metadata": {
    "collapsed": false
   },
   "outputs": [
    {
     "name": "stderr",
     "output_type": "stream",
     "text": [
      "Warning message:\n",
      "In grep(\"^United\", countryNames): input string 99 is invalid in this localeWarning message:\n",
      "In grep(\"^United\", countryNames): input string 186 is invalid in this locale"
     ]
    },
    {
     "data": {
      "text/html": [
       "<ol class=list-inline>\n",
       "\t<li>1</li>\n",
       "\t<li>6</li>\n",
       "\t<li>32</li>\n",
       "</ol>\n"
      ],
      "text/latex": [
       "\\begin{enumerate*}\n",
       "\\item 1\n",
       "\\item 6\n",
       "\\item 32\n",
       "\\end{enumerate*}\n"
      ],
      "text/markdown": [
       "1. 1\n",
       "2. 6\n",
       "3. 32\n",
       "\n",
       "\n"
      ],
      "text/plain": [
       "[1]  1  6 32"
      ]
     },
     "metadata": {},
     "output_type": "display_data"
    }
   ],
   "source": [
    "countryNames<- gdp$X.3\n",
    "grep(\"^United\",countryNames) "
   ]
  },
  {
   "cell_type": "markdown",
   "metadata": {},
   "source": [
    "## Question 4\n",
    "\n",
    "Load the Gross Domestic Product data for the 190 ranked countries in this data set:\n",
    "\n",
    "https://d396qusza40orc.cloudfront.net/getdata%2Fdata%2FGDP.csv\n",
    "\n",
    "Load the educational data from this data set:\n",
    "\n",
    "https://d396qusza40orc.cloudfront.net/getdata%2Fdata%2FEDSTATS_Country.csv\n",
    "\n",
    "Match the data based on the country shortcode. Of the countries for which the end of the fiscal year is available, how many end in June?\n",
    "\n",
    "Original data sources:\n",
    "\n",
    "http://data.worldbank.org/data-catalog/GDP-ranking-table\n",
    "\n",
    "http://data.worldbank.org/data-catalog/ed-stats"
   ]
  },
  {
   "cell_type": "code",
   "execution_count": 102,
   "metadata": {
    "collapsed": false
   },
   "outputs": [
    {
     "data": {
      "text/html": [
       "<ol class=list-inline>\n",
       "\t<li>'CountryCode'</li>\n",
       "\t<li>'Long.Name'</li>\n",
       "\t<li>'Income.Group'</li>\n",
       "\t<li>'Region'</li>\n",
       "\t<li>'Lending.category'</li>\n",
       "\t<li>'Other.groups'</li>\n",
       "\t<li>'Currency.Unit'</li>\n",
       "\t<li>'Latest.population.census'</li>\n",
       "\t<li>'Latest.household.survey'</li>\n",
       "\t<li>'Special.Notes'</li>\n",
       "\t<li>'National.accounts.base.year'</li>\n",
       "\t<li>'National.accounts.reference.year'</li>\n",
       "\t<li>'System.of.National.Accounts'</li>\n",
       "\t<li>'SNA.price.valuation'</li>\n",
       "\t<li>'Alternative.conversion.factor'</li>\n",
       "\t<li>'PPP.survey.year'</li>\n",
       "\t<li>'Balance.of.Payments.Manual.in.use'</li>\n",
       "\t<li>'External.debt.Reporting.status'</li>\n",
       "\t<li>'System.of.trade'</li>\n",
       "\t<li>'Government.Accounting.concept'</li>\n",
       "\t<li>'IMF.data.dissemination.standard'</li>\n",
       "\t<li>'Source.of.most.recent.Income.and.expenditure.data'</li>\n",
       "\t<li>'Vital.registration.complete'</li>\n",
       "\t<li>'Latest.agricultural.census'</li>\n",
       "\t<li>'Latest.industrial.data'</li>\n",
       "\t<li>'Latest.trade.data'</li>\n",
       "\t<li>'Latest.water.withdrawal.data'</li>\n",
       "\t<li>'X2.alpha.code'</li>\n",
       "\t<li>'WB.2.code'</li>\n",
       "\t<li>'Table.Name'</li>\n",
       "\t<li>'Short.Name'</li>\n",
       "</ol>\n"
      ],
      "text/latex": [
       "\\begin{enumerate*}\n",
       "\\item 'CountryCode'\n",
       "\\item 'Long.Name'\n",
       "\\item 'Income.Group'\n",
       "\\item 'Region'\n",
       "\\item 'Lending.category'\n",
       "\\item 'Other.groups'\n",
       "\\item 'Currency.Unit'\n",
       "\\item 'Latest.population.census'\n",
       "\\item 'Latest.household.survey'\n",
       "\\item 'Special.Notes'\n",
       "\\item 'National.accounts.base.year'\n",
       "\\item 'National.accounts.reference.year'\n",
       "\\item 'System.of.National.Accounts'\n",
       "\\item 'SNA.price.valuation'\n",
       "\\item 'Alternative.conversion.factor'\n",
       "\\item 'PPP.survey.year'\n",
       "\\item 'Balance.of.Payments.Manual.in.use'\n",
       "\\item 'External.debt.Reporting.status'\n",
       "\\item 'System.of.trade'\n",
       "\\item 'Government.Accounting.concept'\n",
       "\\item 'IMF.data.dissemination.standard'\n",
       "\\item 'Source.of.most.recent.Income.and.expenditure.data'\n",
       "\\item 'Vital.registration.complete'\n",
       "\\item 'Latest.agricultural.census'\n",
       "\\item 'Latest.industrial.data'\n",
       "\\item 'Latest.trade.data'\n",
       "\\item 'Latest.water.withdrawal.data'\n",
       "\\item 'X2.alpha.code'\n",
       "\\item 'WB.2.code'\n",
       "\\item 'Table.Name'\n",
       "\\item 'Short.Name'\n",
       "\\end{enumerate*}\n"
      ],
      "text/markdown": [
       "1. 'CountryCode'\n",
       "2. 'Long.Name'\n",
       "3. 'Income.Group'\n",
       "4. 'Region'\n",
       "5. 'Lending.category'\n",
       "6. 'Other.groups'\n",
       "7. 'Currency.Unit'\n",
       "8. 'Latest.population.census'\n",
       "9. 'Latest.household.survey'\n",
       "10. 'Special.Notes'\n",
       "11. 'National.accounts.base.year'\n",
       "12. 'National.accounts.reference.year'\n",
       "13. 'System.of.National.Accounts'\n",
       "14. 'SNA.price.valuation'\n",
       "15. 'Alternative.conversion.factor'\n",
       "16. 'PPP.survey.year'\n",
       "17. 'Balance.of.Payments.Manual.in.use'\n",
       "18. 'External.debt.Reporting.status'\n",
       "19. 'System.of.trade'\n",
       "20. 'Government.Accounting.concept'\n",
       "21. 'IMF.data.dissemination.standard'\n",
       "22. 'Source.of.most.recent.Income.and.expenditure.data'\n",
       "23. 'Vital.registration.complete'\n",
       "24. 'Latest.agricultural.census'\n",
       "25. 'Latest.industrial.data'\n",
       "26. 'Latest.trade.data'\n",
       "27. 'Latest.water.withdrawal.data'\n",
       "28. 'X2.alpha.code'\n",
       "29. 'WB.2.code'\n",
       "30. 'Table.Name'\n",
       "31. 'Short.Name'\n",
       "\n",
       "\n"
      ],
      "text/plain": [
       " [1] \"CountryCode\"                                      \n",
       " [2] \"Long.Name\"                                        \n",
       " [3] \"Income.Group\"                                     \n",
       " [4] \"Region\"                                           \n",
       " [5] \"Lending.category\"                                 \n",
       " [6] \"Other.groups\"                                     \n",
       " [7] \"Currency.Unit\"                                    \n",
       " [8] \"Latest.population.census\"                         \n",
       " [9] \"Latest.household.survey\"                          \n",
       "[10] \"Special.Notes\"                                    \n",
       "[11] \"National.accounts.base.year\"                      \n",
       "[12] \"National.accounts.reference.year\"                 \n",
       "[13] \"System.of.National.Accounts\"                      \n",
       "[14] \"SNA.price.valuation\"                              \n",
       "[15] \"Alternative.conversion.factor\"                    \n",
       "[16] \"PPP.survey.year\"                                  \n",
       "[17] \"Balance.of.Payments.Manual.in.use\"                \n",
       "[18] \"External.debt.Reporting.status\"                   \n",
       "[19] \"System.of.trade\"                                  \n",
       "[20] \"Government.Accounting.concept\"                    \n",
       "[21] \"IMF.data.dissemination.standard\"                  \n",
       "[22] \"Source.of.most.recent.Income.and.expenditure.data\"\n",
       "[23] \"Vital.registration.complete\"                      \n",
       "[24] \"Latest.agricultural.census\"                       \n",
       "[25] \"Latest.industrial.data\"                           \n",
       "[26] \"Latest.trade.data\"                                \n",
       "[27] \"Latest.water.withdrawal.data\"                     \n",
       "[28] \"X2.alpha.code\"                                    \n",
       "[29] \"WB.2.code\"                                        \n",
       "[30] \"Table.Name\"                                       \n",
       "[31] \"Short.Name\"                                       "
      ]
     },
     "metadata": {},
     "output_type": "display_data"
    }
   ],
   "source": [
    "#gdp same as question 2 \n",
    "\n",
    "url <- \"https://d396qusza40orc.cloudfront.net/getdata%2Fdata%2FEDSTATS_Country.csv\"\n",
    "f <- file.path(getwd(), \"edu.csv\") \n",
    "\n",
    "if(!file.exists(f))\n",
    "{\n",
    "    download.file(url,f) \n",
    "}\n",
    "\n",
    "edu <- read.csv(f, header = TRUE, sep = \",\")\n",
    "colnames(edu)"
   ]
  },
  {
   "cell_type": "code",
   "execution_count": 114,
   "metadata": {
    "collapsed": false
   },
   "outputs": [
    {
     "data": {
      "text/html": [
       "<ol class=list-inline>\n",
       "\t<li>2</li>\n",
       "\t<li>9</li>\n",
       "\t<li>16</li>\n",
       "\t<li>29</li>\n",
       "\t<li>31</li>\n",
       "\t<li>51</li>\n",
       "\t<li>55</li>\n",
       "\t<li>65</li>\n",
       "\t<li>75</li>\n",
       "\t<li>77</li>\n",
       "\t<li>78</li>\n",
       "\t<li>80</li>\n",
       "\t<li>87</li>\n",
       "\t<li>89</li>\n",
       "\t<li>96</li>\n",
       "\t<li>102</li>\n",
       "\t<li>121</li>\n",
       "\t<li>122</li>\n",
       "\t<li>124</li>\n",
       "\t<li>130</li>\n",
       "\t<li>131</li>\n",
       "\t<li>133</li>\n",
       "\t<li>140</li>\n",
       "\t<li>150</li>\n",
       "\t<li>152</li>\n",
       "\t<li>159</li>\n",
       "\t<li>160</li>\n",
       "\t<li>165</li>\n",
       "\t<li>175</li>\n",
       "\t<li>178</li>\n",
       "\t<li>186</li>\n",
       "\t<li>189</li>\n",
       "</ol>\n"
      ],
      "text/latex": [
       "\\begin{enumerate*}\n",
       "\\item 2\n",
       "\\item 9\n",
       "\\item 16\n",
       "\\item 29\n",
       "\\item 31\n",
       "\\item 51\n",
       "\\item 55\n",
       "\\item 65\n",
       "\\item 75\n",
       "\\item 77\n",
       "\\item 78\n",
       "\\item 80\n",
       "\\item 87\n",
       "\\item 89\n",
       "\\item 96\n",
       "\\item 102\n",
       "\\item 121\n",
       "\\item 122\n",
       "\\item 124\n",
       "\\item 130\n",
       "\\item 131\n",
       "\\item 133\n",
       "\\item 140\n",
       "\\item 150\n",
       "\\item 152\n",
       "\\item 159\n",
       "\\item 160\n",
       "\\item 165\n",
       "\\item 175\n",
       "\\item 178\n",
       "\\item 186\n",
       "\\item 189\n",
       "\\end{enumerate*}\n"
      ],
      "text/markdown": [
       "1. 2\n",
       "2. 9\n",
       "3. 16\n",
       "4. 29\n",
       "5. 31\n",
       "6. 51\n",
       "7. 55\n",
       "8. 65\n",
       "9. 75\n",
       "10. 77\n",
       "11. 78\n",
       "12. 80\n",
       "13. 87\n",
       "14. 89\n",
       "15. 96\n",
       "16. 102\n",
       "17. 121\n",
       "18. 122\n",
       "19. 124\n",
       "20. 130\n",
       "21. 131\n",
       "22. 133\n",
       "23. 140\n",
       "24. 150\n",
       "25. 152\n",
       "26. 159\n",
       "27. 160\n",
       "28. 165\n",
       "29. 175\n",
       "30. 178\n",
       "31. 186\n",
       "32. 189\n",
       "\n",
       "\n"
      ],
      "text/plain": [
       " [1]   2   9  16  29  31  51  55  65  75  77  78  80  87  89  96 102 121 122 124\n",
       "[20] 130 131 133 140 150 152 159 160 165 175 178 186 189"
      ]
     },
     "metadata": {},
     "output_type": "display_data"
    },
    {
     "data": {
      "text/html": [
       "13"
      ],
      "text/latex": [
       "13"
      ],
      "text/markdown": [
       "13"
      ],
      "text/plain": [
       "[1] 13"
      ]
     },
     "metadata": {},
     "output_type": "display_data"
    }
   ],
   "source": [
    "#merge data\n",
    "merged = merge(edu,gdp,by.x = \"CountryCode\", by.y = \"X\" )\n",
    "fis <- grep(\"fiscal\", tolower(merged$Special.Notes)) \n",
    "fis\n",
    "sum(grepl(\"june\", tolower(merged$Special.Notes[fis])))\n"
   ]
  },
  {
   "cell_type": "markdown",
   "metadata": {},
   "source": [
    "\n",
    "## Question 5 \n",
    "\n",
    "You can use the quantmod (http://www.quantmod.com/) package to get historical stock prices for publicly traded companies on the NASDAQ and NYSE. Use the following code to download data on Amazon's stock price and get the times the data was sampled.\n",
    "\n",
    "\n",
    "How many values were collected in 2012? How many values were collected on Mondays in 2012?"
   ]
  },
  {
   "cell_type": "code",
   "execution_count": 121,
   "metadata": {
    "collapsed": false
   },
   "outputs": [],
   "source": [
    "library(quantmod)\n",
    "amzn = getSymbols(\"AMZN\",auto.assign=FALSE)\n",
    "sampleTimes = index(amzn)\n",
    " "
   ]
  },
  {
   "cell_type": "code",
   "execution_count": 134,
   "metadata": {
    "collapsed": false
   },
   "outputs": [],
   "source": [
    "#sampleTimes\n",
    "#indexes for 2012\n",
    "in2012 <- grep(\"2012\",sampleTimes)\n"
   ]
  },
  {
   "cell_type": "code",
   "execution_count": 133,
   "metadata": {
    "collapsed": false
   },
   "outputs": [
    {
     "data": {
      "text/html": [
       "250"
      ],
      "text/latex": [
       "250"
      ],
      "text/markdown": [
       "250"
      ],
      "text/plain": [
       "[1] 250"
      ]
     },
     "metadata": {},
     "output_type": "display_data"
    }
   ],
   "source": [
    "length(sampleTimes[in2012])"
   ]
  },
  {
   "cell_type": "code",
   "execution_count": 132,
   "metadata": {
    "collapsed": false
   },
   "outputs": [
    {
     "data": {
      "text/html": [
       "47"
      ],
      "text/latex": [
       "47"
      ],
      "text/markdown": [
       "47"
      ],
      "text/plain": [
       "[1] 47"
      ]
     },
     "metadata": {},
     "output_type": "display_data"
    }
   ],
   "source": [
    "sum(grepl(\"Monday\", weekdays(as.Date(sampleTimes[in2012]))))\n"
   ]
  },
  {
   "cell_type": "code",
   "execution_count": null,
   "metadata": {
    "collapsed": true
   },
   "outputs": [],
   "source": []
  }
 ],
 "metadata": {
  "kernelspec": {
   "display_name": "R",
   "language": "R",
   "name": "ir"
  },
  "language_info": {
   "codemirror_mode": "r",
   "file_extension": ".r",
   "mimetype": "text/x-r-source",
   "name": "R",
   "pygments_lexer": "r",
   "version": "3.3.0"
  }
 },
 "nbformat": 4,
 "nbformat_minor": 0
}
